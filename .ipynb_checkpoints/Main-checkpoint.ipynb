{
 "cells": [
  {
   "cell_type": "code",
   "execution_count": 11,
   "metadata": {},
   "outputs": [],
   "source": [
    "# Set up a dictionary of signs\n",
    "signs = dict()\n",
    "signs['union'] = 'v'\n",
    "signs['intersection'] = '^'\n",
    "signs['implication'] = '→'\n",
    "signs['negation'] = '~'\n",
    "\n",
    "# Set up list of atomic statements\n",
    "atomic = []\n",
    "atomic.append('A')\n",
    "atomic.append('B')\n",
    "atomic.append('C')\n",
    "atomic.append('D')"
   ]
  },
  {
   "cell_type": "code",
   "execution_count": 12,
   "metadata": {
    "pycharm": {
     "name": "#%%\n"
    }
   },
   "outputs": [],
   "source": [
    "# Split text into Alpha, Beta, S1 and S2\n",
    "def alpha_beta_split(text):\n",
    "\n",
    "    alpha_count = 0\n",
    "    label = 'alpha'\n",
    "    label_S = 'S1'\n",
    "\n",
    "    ab_dict = dict()\n",
    "    ab_dict['alpha'] = ''\n",
    "    ab_dict['beta'] = ''\n",
    "\n",
    "    S_dict = dict()\n",
    "    S_dict['S1'] = ''\n",
    "    S_dict['S2'] = ''\n",
    "\n",
    "    for i in range(len(text)):\n",
    "        if alpha_count >= 1 and label == 'alpha':\n",
    "            label = 'beta'\n",
    "            label_S = 'S2'\n",
    "\n",
    "        if text[i] in signs.values():\n",
    "            if i == 0:\n",
    "                None\n",
    "            else:\n",
    "                if text[i-1] == ',':\n",
    "                    None\n",
    "                else:\n",
    "                    ab_dict[label] += text[i]\n",
    "                    alpha_count -= 1\n",
    "\n",
    "        elif text[i] in atomic:\n",
    "            if i == 0:\n",
    "                if text[i+1] == ',':\n",
    "                    S_dict[label_S] += text[i]\n",
    "                else:\n",
    "                    ab_dict[label] += text[i]\n",
    "                    alpha_count += 1\n",
    "            elif i > 0 and i < len(text):\n",
    "                if text[i-1] == ',' and text[i+1] == ',':\n",
    "                    S_dict[label_S] += text[i]\n",
    "                else:\n",
    "                    ab_dict[label] += text[i]\n",
    "                    alpha_count += 1\n",
    "            else:\n",
    "                if text[i-1] == ',':\n",
    "                    S_dict[label_S] += text[i]\n",
    "                else:\n",
    "                    ab_dict[label] += text[i]\n",
    "\n",
    "        else:\n",
    "            S_dict[label_S] += text[i]\n",
    "\n",
    "    return ab_dict, S_dict"
   ]
  },
  {
   "cell_type": "code",
   "execution_count": 13,
   "metadata": {
    "pycharm": {
     "name": "#%%\n"
    }
   },
   "outputs": [],
   "source": [
    "def union(text):\n",
    "    ab_dict, S_dict = alpha_beta_split(text)\n",
    "    return S_dict['S1'] + ab_dict['alpha'] + ',' + ab_dict['beta'] + S_dict['S2']"
   ]
  },
  {
   "cell_type": "code",
   "execution_count": 14,
   "metadata": {
    "pycharm": {
     "name": "#%%\n"
    }
   },
   "outputs": [],
   "source": [
    "def neg_intersection(text):\n",
    "    text = text.replace(signs['negation'], '', 1)\n",
    "    ab_dict, S_dict = alpha_beta_split(text)\n",
    "    return S_dict['S1'] + signs['negation'] + ab_dict['alpha'] + ',' + signs['negation'] + ab_dict['beta'] + S_dict['S2']"
   ]
  },
  {
   "cell_type": "code",
   "execution_count": 15,
   "metadata": {
    "pycharm": {
     "name": "#%%\n"
    }
   },
   "outputs": [],
   "source": [
    "def implication(text):\n",
    "    ab_dict, S_dict = alpha_beta_split(text)\n",
    "    return S_dict['S1'] + signs['negation'] + ab_dict['alpha'] + ',' + ab_dict['beta'] + S_dict['S2']"
   ]
  },
  {
   "cell_type": "code",
   "execution_count": 16,
   "metadata": {
    "pycharm": {
     "name": "#%%\n"
    }
   },
   "outputs": [
    {
     "name": "stdout",
     "output_type": "stream",
     "text": [
      "~→A→BC,→→AB→AC\n"
     ]
    }
   ],
   "source": [
    "# Test input\n",
    "input = '→→A→BC→→AB→AC'\n",
    "output = implication(input)\n",
    "print(output)"
   ]
  },
  {
   "cell_type": "code",
   "execution_count": 17,
   "metadata": {
    "pycharm": {
     "name": "#%%\n"
    }
   },
   "outputs": [
    {
     "name": "stdout",
     "output_type": "stream",
     "text": [
      "~→AB,→~B~A\n"
     ]
    }
   ],
   "source": [
    "# Test input\n",
    "input = '→→AB→~B~A'\n",
    "output = implication(input)\n",
    "print(output)"
   ]
  },
  {
   "cell_type": "code",
   "execution_count": 18,
   "metadata": {
    "pycharm": {
     "name": "#%%\n"
    }
   },
   "outputs": [
    {
     "name": "stdout",
     "output_type": "stream",
     "text": [
      "P,A,B,Q\n"
     ]
    }
   ],
   "source": [
    "# Test input\n",
    "input = 'P,vAB,Q'       # P = S1, Q = S2\n",
    "output = union(input)\n",
    "print(output)"
   ]
  },
  {
   "cell_type": "code",
   "execution_count": 19,
   "metadata": {
    "pycharm": {
     "name": "#%%\n"
    }
   },
   "outputs": [
    {
     "name": "stdout",
     "output_type": "stream",
     "text": [
      "A,B,P,Q\n"
     ]
    }
   ],
   "source": [
    "# Test input\n",
    "input = 'vAB,P,Q'      # P, Q = S2\n",
    "output = union(input)\n",
    "print(output)"
   ]
  },
  {
   "cell_type": "code",
   "execution_count": 20,
   "metadata": {
    "pycharm": {
     "name": "#%%\n"
    }
   },
   "outputs": [
    {
     "name": "stdout",
     "output_type": "stream",
     "text": [
      "P,~A,~B,Q\n"
     ]
    }
   ],
   "source": [
    "# Test input\n",
    "input = 'P,~^AB,Q'          # P = S1, Q = S2\n",
    "output = neg_intersection(input)\n",
    "print(output)"
   ]
  },
  {
   "cell_type": "code",
   "execution_count": null,
   "metadata": {},
   "outputs": [],
   "source": []
  }
 ],
 "metadata": {
  "kernelspec": {
   "display_name": "Python 3",
   "language": "python",
   "name": "python3"
  },
  "language_info": {
   "codemirror_mode": {
    "name": "ipython",
    "version": 3
   },
   "file_extension": ".py",
   "mimetype": "text/x-python",
   "name": "python",
   "nbconvert_exporter": "python",
   "pygments_lexer": "ipython3",
   "version": "3.7.6"
  }
 },
 "nbformat": 4,
 "nbformat_minor": 1
}
