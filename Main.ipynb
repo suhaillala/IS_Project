{
 "cells": [
  {
   "cell_type": "code",
   "execution_count": null,
   "metadata": {
    "collapsed": true
   },
   "outputs": [],
   "source": [
    "# Set up a dictionary of signs\n",
    "signs = dict()\n",
    "signs['union'] = 'v'\n",
    "signs['intersection'] = '^'\n",
    "signs['implication'] = '->'\n",
    "signs['negation'] = '~'\n",
    "\n",
    "# Set up list of atomic statements\n",
    "atomic = []\n",
    "atomic.add('A')\n",
    "atomic.add('B')\n",
    "atomic.add('C')\n",
    "atomic.add('D')\n",
    "\n",
    "# Test input\n",
    "input = '->->A->BC->->AB->AC'"
   ]
  },
  {
   "cell_type": "code",
   "execution_count": null,
   "outputs": [],
   "source": [
    "def alpha_beta(text):\n",
    "    text = text[1:]\n",
    "    alpha = ''\n",
    "    beta = ''\n",
    "    S1 = ''\n",
    "    S2 = ''\n",
    "    for char in text:\n",
    "        if text[0] in signs.values():\n",
    "            alpha += text[0]\n",
    "            text = text[1:]\n",
    "        elif text[0] in atomic:\n",
    "            if text[1] is ',':\n",
    "                S1 += text[:2]\n",
    "                text = text[2:]\n",
    "            else:\n",
    "                alpha += text[0]\n",
    "                text = text[1:]\n",
    "        else:\n",
    "            S1 += text[0]\n",
    "            text = text[1:]"
   ],
   "metadata": {
    "collapsed": false,
    "pycharm": {
     "name": "#%%\n"
    }
   }
  },
  {
   "cell_type": "code",
   "execution_count": null,
   "outputs": [],
   "source": [
    "def union(text):\n",
    "    a = 1"
   ],
   "metadata": {
    "collapsed": false,
    "pycharm": {
     "name": "#%%\n"
    }
   }
  },
  {
   "cell_type": "code",
   "execution_count": null,
   "outputs": [],
   "source": [
    "def neg_intersection(text):\n",
    "    a = 1"
   ],
   "metadata": {
    "collapsed": false,
    "pycharm": {
     "name": "#%%\n"
    }
   }
  },
  {
   "cell_type": "code",
   "execution_count": null,
   "outputs": [],
   "source": [
    "def implication(text):\n",
    "    a = 1"
   ],
   "metadata": {
    "collapsed": false,
    "pycharm": {
     "name": "#%%\n"
    }
   }
  }
 ],
 "metadata": {
  "kernelspec": {
   "display_name": "Python 3",
   "language": "python",
   "name": "python3"
  },
  "language_info": {
   "codemirror_mode": {
    "name": "ipython",
    "version": 2
   },
   "file_extension": ".py",
   "mimetype": "text/x-python",
   "name": "python",
   "nbconvert_exporter": "python",
   "pygments_lexer": "ipython2",
   "version": "2.7.6"
  }
 },
 "nbformat": 4,
 "nbformat_minor": 0
}