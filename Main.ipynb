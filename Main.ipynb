{
 "cells": [
  {
   "cell_type": "markdown",
   "source": [
    "## Information Systems Project\n",
    "\n",
    "### Authors\n",
    "- Suhail Lala,\n",
    "- Kathryn Mitchell,\n",
    "- Komla Nyagbe\n",
    "\n",
    "\n",
    "### Using the Program\n",
    "The program comes with a console prompt for easy use. Simply run the program and a command line will appear.\n",
    "To see the different commands and symbols, type `?`. To see documentation on a specific command, type `help <command_name>`.\n",
    "\n",
    "To determine if a given formula is a tautology, run `formula(<input>)`. For example, `formula('S1,A,(A->(B->C))->((A->B)->(A->C)),S2')` will return:\n",
    "```\n",
    "('S1,A,A,A,~A,C,S2') : Fundamental\n",
    "('S1,A,A,~B,~A,C,S2') : Fundamental\n",
    "('S1,A,B,A,~A,C,S2') : Fundamental\n",
    "('S1,A,B,~B,~A,C,S2') : Fundamental\n",
    "('S1,A,~C,A,~A,C,S2') : Fundamental\n",
    "('S1,A,~C,~B,~A,C,S2') : Fundamental\n",
    "Given formula is a Tautology\n",
    "```\n",
    "\n",
    "To exit the program, type `exit`."
   ],
   "metadata": {
    "collapsed": false,
    "pycharm": {
     "name": "#%% md\n"
    }
   }
  },
  {
   "cell_type": "code",
   "execution_count": 1,
   "metadata": {
    "pycharm": {
     "name": "#%%\n"
    }
   },
   "outputs": [],
   "source": [
    "# To-do: Komla\n",
    "# Function to transform parenthesis form (a->b)->(~b->~a) to non-parenthesis form ->->ab->~b~a"
   ]
  },
  {
   "cell_type": "code",
   "execution_count": 2,
   "metadata": {
    "pycharm": {
     "name": "#%%\n"
    }
   },
   "outputs": [],
   "source": [
    "# Function to split text into Alpha, Beta, S1 and S2\n",
    "def alpha_beta_split(text):\n",
    "\n",
    "    # Support for switching between alpha to beta\n",
    "    alpha_count = 0\n",
    "    label = 'S1'\n",
    "\n",
    "    # Dictionary of alpha/beta/S strings\n",
    "    ab_dict = dict()\n",
    "    ab_dict['alpha'] = ''\n",
    "    ab_dict['beta'] = ''\n",
    "    ab_dict['S1'] = ''\n",
    "    ab_dict['S2'] = ''\n",
    "\n",
    "    for i in range(len(text)):  # Loop over every char\n",
    "        # Switch labels to beta or S2 if conditions are satisfied\n",
    "        if alpha_count >= 1 and label == 'alpha':\n",
    "            label = 'beta'\n",
    "        elif text[i] == ',' and label == 'beta':\n",
    "            label = 'S2'\n",
    "\n",
    "        # If current char is a sign\n",
    "        if text[i] in signs.values():\n",
    "            if text[i] == signs['negation']:    # Ignore alpha_count for negation\n",
    "                ab_dict[label] += text[i]       # Add negation to alpha/beta/S\n",
    "            else:\n",
    "                if label == 'S1':               # Marks start of alpha\n",
    "                    label = 'alpha'\n",
    "                else:\n",
    "                    ab_dict[label] += text[i]       # Add sign to alpha/beta/S\n",
    "                    alpha_count -= 1                # Reduce alpha_count to add 1 more atomic statement to alpha\n",
    "\n",
    "        # If current char is an Atomic statement\n",
    "        elif text[i] in atomic:\n",
    "            if label != 'alpha':        # Ignore alpha_count for other labels\n",
    "                ab_dict[label] += text[i]\n",
    "            else:\n",
    "                ab_dict[label] += text[i]\n",
    "                alpha_count += 1\n",
    "\n",
    "        # If current char is indecomposable sequence\n",
    "        else:\n",
    "            ab_dict[label] += text[i]\n",
    "\n",
    "    return ab_dict"
   ]
  },
  {
   "cell_type": "code",
   "execution_count": 3,
   "metadata": {
    "pycharm": {
     "name": "#%%\n"
    }
   },
   "outputs": [],
   "source": [
    "# Schema [S1,AvB,S2]/[S1,A,B,S2]\n",
    "def union(text):\n",
    "    ab_dict = alpha_beta_split(text)\n",
    "    return ab_dict['S1'] + ab_dict['alpha'] + ',' + ab_dict['beta'] + ab_dict['S2']"
   ]
  },
  {
   "cell_type": "code",
   "execution_count": 4,
   "metadata": {},
   "outputs": [],
   "source": [
    "# Schema [S1,~(AvB),S2]/[S1,~A,S2;S1,~B,S2]\n",
    "def neg_union(text):\n",
    "    ab_dict = alpha_beta_split(text)\n",
    "    return (ab_dict['S1'] + signs['negation'] + ab_dict['alpha'] + ab_dict['S2'], ab_dict['S1'] + signs['negation'] + ab_dict['beta'] + ab_dict['S2'])"
   ]
  },
  {
   "cell_type": "code",
   "execution_count": 5,
   "metadata": {},
   "outputs": [],
   "source": [
    "# Schema [S1,(A^B),S2]/[S1,A,S2;S1,B,S2]\n",
    "def intersection(text):\n",
    "    ab_dict = alpha_beta_split(text)\n",
    "    return (ab_dict['S1'] + ab_dict['alpha'] + ab_dict['S2'], ab_dict['S1'] + ab_dict['beta'] + ab_dict['S2'])"
   ]
  },
  {
   "cell_type": "code",
   "execution_count": 6,
   "metadata": {},
   "outputs": [],
   "source": [
    "# Schema [S1,~~A,S2]/[S1,A,S2]\n",
    "def double_negation(text):\n",
    "    ab_dict = alpha_beta_split(text)\n",
    "    return ab_dict['S1'] + ab_dict['alpha'] + ab_dict['S2']"
   ]
  },
  {
   "cell_type": "code",
   "execution_count": 7,
   "metadata": {
    "pycharm": {
     "name": "#%%\n"
    }
   },
   "outputs": [],
   "source": [
    "# Schema [S1,~(A→B),S2]/[S1,A,S2;S1,~B,S2]\n",
    "def neg_implication(text):\n",
    "    ab_dict = alpha_beta_split(text)\n",
    "    return (ab_dict['S1'] + ab_dict['alpha'] + ab_dict['S2'], ab_dict['S1'] + signs['negation'] + ab_dict['beta'] + ab_dict['S2'])"
   ]
  },
  {
   "cell_type": "code",
   "execution_count": 8,
   "metadata": {
    "pycharm": {
     "name": "#%%\n"
    }
   },
   "outputs": [],
   "source": [
    "# Schema [S1,~(A^B),S2]/[S1,~A,~B,S2]\n",
    "def neg_intersection(text):\n",
    "    ab_dict = alpha_beta_split(text)\n",
    "    return ab_dict['S1'] + signs['negation'] + ab_dict['alpha'] + ',' + signs['negation'] + ab_dict['beta'] + ab_dict['S2']"
   ]
  },
  {
   "cell_type": "code",
   "execution_count": 9,
   "metadata": {
    "pycharm": {
     "name": "#%%\n"
    }
   },
   "outputs": [],
   "source": [
    "# Schema [S1,A→B,S2]/[S1,~A,B,S2]\n",
    "def implication(text):\n",
    "    ab_dict = alpha_beta_split(text)\n",
    "    return ab_dict['S1'] + signs['negation'] + ab_dict['alpha'] + ',' + ab_dict['beta'] + ab_dict['S2']"
   ]
  },
  {
   "cell_type": "code",
   "execution_count": 10,
   "metadata": {
    "pycharm": {
     "name": "#%%\n"
    }
   },
   "outputs": [],
   "source": [
    "# Assigns schema and returns output of that schema\n",
    "def assign_schema(text):\n",
    "    for i in range(len(text)):\n",
    "        if text[i] in signs.values():               # Check for signs\n",
    "            if text[i] == signs['negation']:        # Assign schemas for negative formulas\n",
    "                if text[i+1] == signs['intersection']:  # Check if next values are signs and assign schema accordingly\n",
    "                    text = text[:i] + text[i+1:]    # Remove negation sign\n",
    "                    text = neg_intersection(text)\n",
    "                    break\n",
    "                elif text[i+1] == signs['union']:\n",
    "                    text = text[:i] + text[i+1:]\n",
    "                    text = neg_union(text)\n",
    "                    break\n",
    "                elif text[i+1] == signs['negation']:\n",
    "                    text = text[:i] + text[i+2:]    # Remove double negation\n",
    "                    #text = double_negation(text)\n",
    "                    break\n",
    "                elif text[i+1] == signs['implication']:\n",
    "                    text = text[:i] + text[i+1:]\n",
    "                    text = neg_implication(text)\n",
    "                    break\n",
    "\n",
    "            else:                               # Assign schemas for non-negative formulas\n",
    "                if text[i] == signs['union']: text = union(text)\n",
    "                elif text[i] == signs['intersection']: text = intersection(text)\n",
    "                elif text[i] == signs['implication']: text = implication(text)\n",
    "                break\n",
    "\n",
    "    # Put string in a tuple to prevent iteration over every character during recursion\n",
    "    if not isinstance(text, tuple): text = (text,)\n",
    "    return text"
   ]
  },
  {
   "cell_type": "code",
   "execution_count": 11,
   "metadata": {
    "pycharm": {
     "name": "#%%\n"
    }
   },
   "outputs": [],
   "source": [
    "# Helper function to check if a leaf is fundamental\n",
    "def check_fundamental(leaf_text):\n",
    "    fundamental = False\n",
    "    leaf_text = leaf_text.split(',')\n",
    "    for i in range(len(leaf_text)):\n",
    "        for j in range(i+1, len(leaf_text)):\n",
    "            # Check if negation of an atomic statement exists, and if so, assign fundamental = True\n",
    "            if leaf_text[i] == signs['negation'] + leaf_text[j] or leaf_text[j] == signs['negation'] + leaf_text[i]: fundamental = True\n",
    "    return fundamental"
   ]
  },
  {
   "cell_type": "code",
   "execution_count": 12,
   "metadata": {
    "pycharm": {
     "name": "#%%\n"
    }
   },
   "outputs": [],
   "source": [
    "# Perform depth-first search, output leaf values and if leaf is fundamental\n",
    "leaf_nodes = []\n",
    "fundamental = []\n",
    "def RS_tree(text_input):\n",
    "    for text_output in assign_schema(text_input):\n",
    "        if len(fundamental) > 0:                               # Check if fundamental array is empty\n",
    "            if not fundamental[-1]: break                      # Stop recursion if a leaf is not fundamental\n",
    "\n",
    "        if text_input != text_output: RS_tree(text_output)     # If leaf has not been reached, perform recursion until leaf is reached\n",
    "        else:                                                   # If leaf has been reached:\n",
    "            leaf_nodes.append(text_output)                      # Add leaf node values to array\n",
    "            fundamental.append(check_fundamental(text_output))  # Add fundamental boolean to array"
   ]
  },
  {
   "cell_type": "code",
   "execution_count": 18,
   "metadata": {
    "pycharm": {
     "name": "#%%\n"
    }
   },
   "outputs": [],
   "source": [
    "# Check if formula is Tautology\n",
    "def check_tautology(text_input):\n",
    "    tautology = True\n",
    "\n",
    "    # Reset lists\n",
    "    global leaf_nodes\n",
    "    global fundamental\n",
    "    leaf_nodes = []\n",
    "    fundamental = []\n",
    "\n",
    "    RS_tree(text_input)         # Perform Depth first search, populate leaf values and check for fundamental\n",
    "    for i in range(len(leaf_nodes)):\n",
    "        print(leaf_nodes[i] + ' : ' + ('Fundamental' if fundamental[i] else 'Not Fundamental')) # Print fundamental value of every leaf\n",
    "        if fundamental[i] == False: tautology = False       # If a leaf is not fundamental, formula is not tautology\n",
    "    return tautology"
   ]
  },
  {
   "cell_type": "code",
   "execution_count": 14,
   "metadata": {
    "pycharm": {
     "name": "#%%\n"
    }
   },
   "outputs": [],
   "source": [
    "# Initial setup\n",
    "# Set up a dictionary of signs\n",
    "signs = dict()\n",
    "signs['union'] = 'v'\n",
    "signs['intersection'] = '^'\n",
    "signs['implication'] = '→'\n",
    "signs['negation'] = '~'\n",
    "\n",
    "# Set up list of atomic statements\n",
    "atomic = []\n",
    "atomic.append('A')\n",
    "atomic.append('B')\n",
    "atomic.append('C')\n",
    "atomic.append('D')\n",
    "atomic.append('E')"
   ]
  },
  {
   "cell_type": "code",
   "execution_count": 24,
   "outputs": [
    {
     "name": "stdout",
     "output_type": "stream",
     "text": [
      "Welcome! Enter a formula or type ? to view commands\n",
      "S1, S2, S3 etc. denote finite sequences of Indecomposable formulas\n",
      "A, B, C, D and E denote Atomic statements\n",
      "'v' denotes Union\n",
      "'^' denotes Intersection\n",
      "'->' denotes Implication\n",
      "'~' denotes Negation\n",
      "\n",
      "To determine if a given formula is a tautology, type formula(<input>). For example, running formula('S1,~A,(A->(B->C))->((A->B)->(A->C)),S2') will return:\n",
      "S1,~A,A,A,~A,C,S2 : Fundamental\n",
      "S1,~A,A,~B,~A,C,S2 : Fundamental\n",
      "S1,~A,B,A,~A,C,S2 : Fundamental\n",
      "S1,~A,B,~B,~A,C,S2 : Fundamental\n",
      "S1,~A,~C,A,~A,C,S2 : Fundamental\n",
      "S1,~A,~C,~B,~A,C,S2 : Fundamental\n",
      "Given formula is a Tautology\n",
      "\n",
      "To exit the program, type exit\n",
      "\n",
      "\n",
      "Documented commands (type help <topic>):\n",
      "========================================\n",
      "exit  formula  help\n",
      "\n",
      "Exiting\n"
     ]
    }
   ],
   "source": [
    "# console import and setup\n",
    "\n",
    "from cmd import Cmd\n",
    "class FormulaPrompt(Cmd):\n",
    "    intro = \"Welcome! Enter a formula or type ? to view commands\"\n",
    "    def do_exit(self, inp):\n",
    "        '''Exit the command shell'''\n",
    "        print(\"Exiting\")\n",
    "        return True\n",
    "    def do_help(self, inp):\n",
    "        '''Display help commands'''\n",
    "        print(\"S1, S2, S3 etc. denote finite sequences of Indecomposable formulas\")\n",
    "        print(\"A, B, C, D and E denote Atomic statements\")\n",
    "        print(\"'v' denotes Union\")\n",
    "        print(\"'^' denotes Intersection\")\n",
    "        print(\"'->' denotes Implication\")\n",
    "        print(\"'~' denotes Negation\")\n",
    "        print(\"\")\n",
    "        print(\"To determine if a given formula is a tautology, type formula(<input>). For example, running formula('S1,~A,(A->(B->C))->((A->B)->(A->C)),S2') will return:\")\n",
    "        print('Given formula is a Tautology' if check_tautology(\"S1,~A,→→A→BC→→AB→AC,S2\") else 'Given formula is not a Tautology')\n",
    "        print(\"\")\n",
    "        print(\"To exit the program, type exit\")\n",
    "        print(\"\")\n",
    "        super(FormulaPrompt, self).do_help(inp)\n",
    "        pass\n",
    "    def do_formula(self, inp):\n",
    "        '''Check if given formula is a tautology'''\n",
    "        if (inp == \"\"):\n",
    "            print(\"Please enter a formula\")\n",
    "        else:\n",
    "            inp = inp.replace('->', '→')\n",
    "            print('Given formula is a Tautology' if check_tautology(inp) else 'Given formula is not a Tautology')\n",
    "        print(\"\")\n",
    "        pass\n",
    "        \n",
    "FormulaPrompt().cmdloop()"
   ],
   "metadata": {
    "collapsed": false,
    "pycharm": {
     "name": "#%%\n"
    }
   }
  }
 ],
 "metadata": {
  "kernelspec": {
   "display_name": "Python 3",
   "language": "python",
   "name": "python3"
  },
  "language_info": {
   "codemirror_mode": {
    "name": "ipython",
    "version": 3
   },
   "file_extension": ".py",
   "mimetype": "text/x-python",
   "name": "python",
   "nbconvert_exporter": "python",
   "pygments_lexer": "ipython3",
   "version": "3.7.6"
  }
 },
 "nbformat": 4,
 "nbformat_minor": 1
}