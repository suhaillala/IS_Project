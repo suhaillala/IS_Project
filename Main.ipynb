{
 "cells": [
  {
   "cell_type": "code",
   "execution_count": 106,
   "metadata": {},
   "outputs": [],
   "source": [
    "# Initial setup\n",
    "# Set up a dictionary of signs\n",
    "signs = dict()\n",
    "signs['union'] = 'v'\n",
    "signs['intersection'] = '^'\n",
    "signs['implication'] = '→'\n",
    "signs['negation'] = '~'\n",
    "\n",
    "# Set up list of atomic statements\n",
    "atomic = []\n",
    "atomic.append('A')\n",
    "atomic.append('B')\n",
    "atomic.append('C')\n",
    "atomic.append('D')\n",
    "atomic.append('E')"
   ]
  },
  {
   "cell_type": "code",
   "execution_count": null,
   "outputs": [],
   "source": [
    "# To-do: Komla\n",
    "# Function to transform parenthesis form (a->b)->(~b->~a) to non-parenthesis form ->->ab->~b~a"
   ],
   "metadata": {
    "collapsed": false,
    "pycharm": {
     "name": "#%%\n"
    }
   }
  },
  {
   "cell_type": "code",
   "execution_count": 107,
   "metadata": {
    "pycharm": {
     "name": "#%%\n"
    }
   },
   "outputs": [],
   "source": [
    "# Function to split text into Alpha, Beta, S1 and S2\n",
    "def alpha_beta_split(text):\n",
    "\n",
    "    # Support for switching between alpha to beta\n",
    "    alpha_count = 0\n",
    "    label = 'S1'\n",
    "\n",
    "    # Dictionary of alpha/beta/S strings\n",
    "    ab_dict = dict()\n",
    "    ab_dict['alpha'] = ''\n",
    "    ab_dict['beta'] = ''\n",
    "    ab_dict['S1'] = ''\n",
    "    ab_dict['S2'] = ''\n",
    "\n",
    "    for i in range(len(text)):  # Loop over every char\n",
    "        # Switch labels to beta or S2 if conditions are satisfied\n",
    "        if alpha_count >= 1 and label == 'alpha':\n",
    "            label = 'beta'\n",
    "        elif text[i] == ',' and label == 'beta':\n",
    "            label = 'S2'\n",
    "\n",
    "        # If current char is a sign\n",
    "        if text[i] in signs.values():\n",
    "            if text[i] == signs['negation']:    # Ignore alpha_count for negation\n",
    "                ab_dict[label] += text[i]       # Add negation to alpha/beta/S\n",
    "            else:\n",
    "                if label == 'S1':               # Marks start of alpha\n",
    "                    label = 'alpha'\n",
    "                else:\n",
    "                    ab_dict[label] += text[i]       # Add sign to alpha/beta/S\n",
    "                    alpha_count -= 1                # Reduce alpha_count to add 1 more atomic statement to alpha\n",
    "\n",
    "        # If current char is an Atomic statement\n",
    "        elif text[i] in atomic:\n",
    "            if label != 'alpha':        # Ignore alpha_count for other labels\n",
    "                ab_dict[label] += text[i]\n",
    "            else:\n",
    "                ab_dict[label] += text[i]\n",
    "                alpha_count += 1\n",
    "\n",
    "        # If current char is indecomposable sequence\n",
    "        else:\n",
    "            ab_dict[label] += text[i]\n",
    "\n",
    "    return ab_dict"
   ]
  },
  {
   "cell_type": "code",
   "execution_count": 108,
   "metadata": {
    "pycharm": {
     "name": "#%%\n"
    }
   },
   "outputs": [],
   "source": [
    "def union(text):\n",
    "    ab_dict = alpha_beta_split(text)\n",
    "    return ab_dict['S1'] + ab_dict['alpha'] + ',' + ab_dict['beta'] + ab_dict['S2']"
   ]
  },
  {
   "cell_type": "code",
   "execution_count": 109,
   "metadata": {},
   "outputs": [],
   "source": [
    "# Todo: Use other funcs to define intersection, negative union, and negation\n",
    "\n",
    "# def neg_union(text):"
   ]
  },
  {
   "cell_type": "code",
   "execution_count": 110,
   "metadata": {},
   "outputs": [],
   "source": [
    "# def intersection(text):"
   ]
  },
  {
   "cell_type": "code",
   "execution_count": 111,
   "metadata": {},
   "outputs": [],
   "source": [
    "# def double_negation(text):"
   ]
  },
  {
   "cell_type": "code",
   "execution_count": null,
   "outputs": [],
   "source": [
    "# def neg_implication(text):"
   ],
   "metadata": {
    "collapsed": false,
    "pycharm": {
     "name": "#%%\n"
    }
   }
  },
  {
   "cell_type": "code",
   "execution_count": 112,
   "metadata": {
    "pycharm": {
     "name": "#%%\n"
    }
   },
   "outputs": [],
   "source": [
    "def neg_intersection(text):\n",
    "    text = text.replace(signs['negation'], '', 1)\n",
    "    ab_dict = alpha_beta_split(text)\n",
    "    return ab_dict['S1'] + signs['negation'] + ab_dict['alpha'] + ',' + signs['negation'] + ab_dict['beta'] + ab_dict['S2']"
   ]
  },
  {
   "cell_type": "code",
   "execution_count": 113,
   "metadata": {
    "pycharm": {
     "name": "#%%\n"
    }
   },
   "outputs": [],
   "source": [
    "def implication(text):\n",
    "    ab_dict = alpha_beta_split(text)\n",
    "    return ab_dict['S1'] + signs['negation'] + ab_dict['alpha'] + ',' + ab_dict['beta'] + ab_dict['S2']"
   ]
  },
  {
   "cell_type": "code",
   "execution_count": null,
   "outputs": [],
   "source": [
    "# To-do:\n",
    "# Helper function to check if a leaf is fundamental"
   ],
   "metadata": {
    "collapsed": false,
    "pycharm": {
     "name": "#%%\n"
    }
   }
  },
  {
   "cell_type": "code",
   "execution_count": null,
   "outputs": [],
   "source": [
    "# To-do:\n",
    "# Function to call the respective schema function based on current operation and handle output\n",
    "# Feature: Perform depth-first search, output leaf values and if equation is Tautology"
   ],
   "metadata": {
    "collapsed": false,
    "pycharm": {
     "name": "#%%\n"
    }
   }
  },
  {
   "cell_type": "code",
   "execution_count": null,
   "outputs": [],
   "source": [
    "# To-do:\n",
    "# Implement Console/UI for Input/Output + write documentation"
   ],
   "metadata": {
    "collapsed": false,
    "pycharm": {
     "name": "#%%\n"
    }
   }
  },
  {
   "cell_type": "code",
   "execution_count": 114,
   "metadata": {
    "pycharm": {
     "name": "#%%\n"
    }
   },
   "outputs": [
    {
     "name": "stdout",
     "output_type": "stream",
     "text": [
      "~→A→BC,→→AB→AC\n"
     ]
    }
   ],
   "source": [
    "# Test input\n",
    "input = '→→A→BC→→AB→AC'\n",
    "output = implication(input)\n",
    "print(output)"
   ]
  },
  {
   "cell_type": "code",
   "execution_count": 115,
   "metadata": {
    "pycharm": {
     "name": "#%%\n"
    }
   },
   "outputs": [
    {
     "name": "stdout",
     "output_type": "stream",
     "text": [
      "~~B,~A,~→AB\n"
     ]
    }
   ],
   "source": [
    "# Test input\n",
    "input = '→~B~A,~→AB'\n",
    "output = implication(input)\n",
    "print(output)"
   ]
  },
  {
   "cell_type": "code",
   "execution_count": 116,
   "metadata": {
    "pycharm": {
     "name": "#%%\n"
    }
   },
   "outputs": [
    {
     "name": "stdout",
     "output_type": "stream",
     "text": [
      "P,A,B,Q\n"
     ]
    }
   ],
   "source": [
    "# Test input\n",
    "input = 'P,vAB,Q'       # P = S1, Q = S2\n",
    "output = union(input)\n",
    "print(output)"
   ]
  },
  {
   "cell_type": "code",
   "execution_count": 117,
   "metadata": {
    "pycharm": {
     "name": "#%%\n"
    }
   },
   "outputs": [
    {
     "name": "stdout",
     "output_type": "stream",
     "text": [
      "A,B,P,Q\n"
     ]
    }
   ],
   "source": [
    "# Test input\n",
    "input = 'vAB,P,Q'      # P, Q = S2\n",
    "output = union(input)\n",
    "print(output)"
   ]
  },
  {
   "cell_type": "code",
   "execution_count": 118,
   "metadata": {
    "pycharm": {
     "name": "#%%\n"
    }
   },
   "outputs": [
    {
     "name": "stdout",
     "output_type": "stream",
     "text": [
      "P,~A,~B,Q\n"
     ]
    }
   ],
   "source": [
    "# Test input\n",
    "input = 'P,~^AB,Q'          # P = S1, Q = S2\n",
    "output = neg_intersection(input)\n",
    "print(output)"
   ]
  },
  {
   "cell_type": "code",
   "execution_count": 119,
   "metadata": {},
   "outputs": [],
   "source": [
    "# Test input for schema [S1,~(AvB),S2]/[S1,~A,S2;S1,~B,S2]\n",
    "input1 = 'P,~vAB,Q'\n",
    "# output1 = neg_union(input1)\n",
    "input2 = 'P,~A,Q'\n",
    "# output2 = negation(input2)\n",
    "input3 = 'P,~B,Q'\n",
    "# output3 = negation(input3)\n",
    "# input = '[input1]/[input2;input3]'\n",
    "# output =\n",
    "# print(output)"
   ]
  },
  {
   "cell_type": "code",
   "execution_count": 120,
   "metadata": {},
   "outputs": [],
   "source": [
    "# Test input for schema [S1,~(A->B),S2]/[S1,A,S2;S1,~B,S2]\n",
    "input1 = 'P,~→AB,Q'\n",
    "output1 = implication(input1)\n",
    "input2 = 'P,A,Q'\n",
    "input3 = 'P,~B,Q'\n",
    "# input = '[input1]/[input2;input3]'\n",
    "# output = \n",
    "# print(output)"
   ]
  }
 ],
 "metadata": {
  "kernelspec": {
   "display_name": "Python 3",
   "language": "python",
   "name": "python3"
  },
  "language_info": {
   "codemirror_mode": {
    "name": "ipython",
    "version": 3
   },
   "file_extension": ".py",
   "mimetype": "text/x-python",
   "name": "python",
   "nbconvert_exporter": "python",
   "pygments_lexer": "ipython3",
   "version": "3.7.6"
  }
 },
 "nbformat": 4,
 "nbformat_minor": 1
}